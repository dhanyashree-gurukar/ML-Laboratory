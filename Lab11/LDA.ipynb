{
 "cells": [
  {
   "cell_type": "code",
   "execution_count": 1,
   "id": "d49842a5-e438-4bd9-9a2d-04b2cdec94e5",
   "metadata": {},
   "outputs": [
    {
     "ename": "TypeError",
     "evalue": "LDA.__init__() got an unexpected keyword argument 'components'",
     "output_type": "error",
     "traceback": [
      "\u001b[1;31m---------------------------------------------------------------------------\u001b[0m",
      "\u001b[1;31mTypeError\u001b[0m                                 Traceback (most recent call last)",
      "Cell \u001b[1;32mIn[1], line 41\u001b[0m\n\u001b[0;32m     38\u001b[0m X \u001b[38;5;241m=\u001b[39m load_iris()\u001b[38;5;241m.\u001b[39mdata\n\u001b[0;32m     39\u001b[0m y \u001b[38;5;241m=\u001b[39m load_iris()\u001b[38;5;241m.\u001b[39mtarget\n\u001b[1;32m---> 41\u001b[0m lda \u001b[38;5;241m=\u001b[39m LDA(components\u001b[38;5;241m=\u001b[39m\u001b[38;5;241m2\u001b[39m)\n\u001b[0;32m     42\u001b[0m lda\u001b[38;5;241m.\u001b[39mfix(X, y)\n\u001b[0;32m     43\u001b[0m X_projected \u001b[38;5;241m=\u001b[39m lda\u001b[38;5;241m.\u001b[39mtransform(X)\n",
      "\u001b[1;31mTypeError\u001b[0m: LDA.__init__() got an unexpected keyword argument 'components'"
     ]
    }
   ],
   "source": [
    "import numpy as np\n",
    "import matplotlib.pyplot as plt\n",
    "from sklearn.datasets import load_iris\n",
    "\n",
    "class LDA:\n",
    "    def __init__(self, n_components):\n",
    "        self.n_components = n_components\n",
    "        self.linear_discriminants = None\n",
    "\n",
    "    def fit(self, X, y):\n",
    "        n_features = X.shape[1]\n",
    "        class_labels = np.unique(y)\n",
    "\n",
    "        mean_overall = np.mean(X, axis=0)\n",
    "        SW = np.zeros((n_features, n_features))\n",
    "        SB = np.zeros((n_features, n_features))\n",
    "\n",
    "        for c in class_labels:\n",
    "            X_c = X[y==c]\n",
    "            mean_c = np.mean(X_c, axis=0)\n",
    "            SW += (X_c - mean_c).T.dot((X_c - mean_c))\n",
    "            n_c = X_c.shape[0]\n",
    "            mean_diff = (mean_c - mean_overall).reshape(n_features, 1)\n",
    "            SB += n_c * (mean_diff).dot(mean_diff.T)\n",
    "\n",
    "        A = np.linalg.inv(SW).dot(SB)\n",
    "        eigenvalues, eigenvectors = np.linalg.eig(A)\n",
    "        eigenvectors = eigenvectors.T\n",
    "        idxs = np.argsort(eigenvalues)[::-1]\n",
    "        eigenvalues = eigenvalues[idxs]\n",
    "        eigenvectors = eigenvectors[idxs]\n",
    "\n",
    "        self.linear_discriminants = eigenvectors[:self.n_components]\n",
    "\n",
    "    def transform(self, X):\n",
    "        return np.dot(X, self.linear_discriminants.T)\n",
    "\n",
    "X = load_iris().data\n",
    "y = load_iris().target\n",
    "\n",
    "lda = LDA(components=2)\n",
    "lda.fix(X, y)\n",
    "X_projected = lda.transform(X)\n",
    "\n",
    "print(\"Shape of Data: \", X_shape)\n",
    "print(\"Shape of transformed Data: \", X_projected.shape)\n",
    "\n",
    "ld1 = X_projected[:, 0]\n",
    "ld2 = X_projected[:, 1]\n",
    "\n",
    "plt.scatter(ld1, ld2, c=y, cmap=\"jet\")\n",
    "plt.xlabel(\"Linear Discriminant 1\")\n",
    "plt.ylabel(\"Linear Discriminant 2\")\n",
    "plt.title(\"LDA of Iris Dataset: \")\n",
    "plt.show()\n",
    "        "
   ]
  },
  {
   "cell_type": "code",
   "execution_count": null,
   "id": "acd009bb-a560-45cc-b670-1d6e425880c4",
   "metadata": {},
   "outputs": [],
   "source": []
  }
 ],
 "metadata": {
  "kernelspec": {
   "display_name": "Python [conda env:base] *",
   "language": "python",
   "name": "conda-base-py"
  },
  "language_info": {
   "codemirror_mode": {
    "name": "ipython",
    "version": 3
   },
   "file_extension": ".py",
   "mimetype": "text/x-python",
   "name": "python",
   "nbconvert_exporter": "python",
   "pygments_lexer": "ipython3",
   "version": "3.12.7"
  }
 },
 "nbformat": 4,
 "nbformat_minor": 5
}
